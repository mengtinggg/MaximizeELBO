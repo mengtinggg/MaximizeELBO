{
  "cells": [
    {
      "cell_type": "code",
      "execution_count": 19,
      "metadata": {
        "colab": {
          "base_uri": "https://localhost:8080/"
        },
        "id": "g4-75HtedchR",
        "outputId": "6036fc57-9122-44fc-8484-139bbb9e0740"
      },
      "outputs": [
        {
          "name": "stdout",
          "output_type": "stream",
          "text": [
            "TF version: 2.7.0\n",
            "TFP version: 0.15.0\n"
          ]
        }
      ],
      "source": [
        "import tensorflow as tf\n",
        "import tensorflow_probability as tfp\n",
        "%matplotlib inline\n",
        "tfd = tfp.distributions\n",
        "tfpl = tfp.layers\n",
        "tfb = tfp.bijectors\n",
        "print(\"TF version:\", tf.__version__)\n",
        "print(\"TFP version:\", tfp.__version__)"
      ]
    },
    {
      "cell_type": "markdown",
      "metadata": {
        "id": "EhFM0T-zdciF"
      },
      "source": [
        "## Maximising the ELBO \n",
        "We manipulate the ELBO as below to derive the VAE loss function\n",
        "\\begin{align}\n",
        "\\mathbb{E}_{z \\sim q(z | x)} \\big[ \\log \\frac{p(z,x)}{q(z|x)} \\big] &=  \\mathbb{E}_{z \\sim q(z | x)} \\big[ \\log p(z,x) \\big] - \\mathbb{E}_{z \\sim q(z | x)} \\big[\\log q(z|x)\\big] \\\\\n",
        "&=  \\mathbb{E}_{z \\sim q(z | x)} \\big[ \\log(p(x|z)p(z) )\\big] - \\mathbb{E}_{z \\sim q(z | x)} \\big[ \\log q(z|x)\\big] \\\\\n",
        "&=  \\mathbb{E}_{z \\sim q(z | x)} \\big[ \\log p(x|z) \\big] + \\mathbb{E}_{z \\sim q(z | x)} \\big[\\log p(z) \\big] - \\mathbb{E}_{z \\sim q(z | x)} \\big[\\log  q(z|x)\\big] \\\\\n",
        "&=  \\mathbb{E}_{z \\sim q(z | x)} \\big[ \\log p(x|z) \\big] - \\mathbb{E}_{z \\sim q(z | x)} \\big[\\log \\frac{q(z|x)}{p(z)} \\big] \\\\\n",
        "&=  \\mathbb{E}_{z \\sim q(z | x)} \\big[ \\log p(x|z) \\big] - \\mathrm{KL}\\big[ \\ q(z | x) \\ || \\ p(z) \\ \\big] \\\\\n",
        "\\end{align}\n",
        "\n",
        "Now we can define $q(z|x)$ as an encoding distribution, $p(x|z)$ as a decoding distribution, and $p(z)$ is the prior distribution."
      ]
    },
    {
      "cell_type": "code",
      "execution_count": 20,
      "metadata": {
        "id": "8CIOHfBldciG"
      },
      "outputs": [],
      "source": [
        "from tensorflow.keras.models import Sequential, Model\n",
        "from tensorflow.keras.layers import Dense, Flatten, Reshape\n",
        "import matplotlib.pyplot as plt\n",
        "import numpy as np"
      ]
    },
    {
      "cell_type": "code",
      "execution_count": 21,
      "metadata": {
        "colab": {
          "base_uri": "https://localhost:8080/"
        },
        "id": "jEFGuHSadciI",
        "outputId": "52b30d81-c40f-4ba7-bdf9-f786ffa7e9e3"
      },
      "outputs": [],
      "source": [
        "# Import Fasion MNIST, make it a TensorFlow Dataset\n",
        "\n",
        "(x_train, _), (x_test, _) = tf.keras.datasets.fashion_mnist.load_data()\n",
        "x_train = x_train.astype('float32')/255.\n",
        "x_test = x_test.astype('float32')/255.\n",
        "example_x = x_test[:16]\n",
        "\n",
        "batch_size = 64\n",
        "x_train = tf.data.Dataset.from_tensor_slices(x_train).batch(batch_size)"
      ]
    },
    {
      "cell_type": "code",
      "execution_count": 22,
      "metadata": {
        "id": "m7IzGEXvdciK"
      },
      "outputs": [],
      "source": [
        "# Define the encoding distribution, q(z|x)\n",
        "latent_size = 2\n",
        "event_shape = (28,28)\n",
        "\n",
        "#MultivariateNormalDiag where we have zero covariances between variates.\n",
        "#2-dimensinal MultivariateNormal\n",
        "encoder = Sequential([\n",
        "           Flatten(input_shape=event_shape),\n",
        "           Dense(256, activation='relu'),\n",
        "           Dense(128, activation='relu'),          \n",
        "           Dense(64, activation='relu'),\n",
        "           Dense(32, activation='relu'),\n",
        "           Dense(2*latent_size),\n",
        "           tfpl.DistributionLambda(\n",
        "               lambda t: tfd.MultivariateNormalDiag(\n",
        "                   loc=t[..., :latent_size],\n",
        "                   scale_diag=tf.math.exp(t[...,latent_size:])\n",
        "               )\n",
        "           )\n",
        "\n",
        "])\n"
      ]
    },
    {
      "cell_type": "code",
      "execution_count": 23,
      "metadata": {
        "colab": {
          "base_uri": "https://localhost:8080/"
        },
        "id": "Aw6H691LdciN",
        "outputId": "83b258ad-a655-4513-dfe6-44422d6a0285"
      },
      "outputs": [
        {
          "data": {
            "text/plain": [
              "<tfp.distributions._TensorCoercible 'tensor_coercible' batch_shape=[16] event_shape=[2] dtype=float32>"
            ]
          },
          "execution_count": 23,
          "metadata": {},
          "output_type": "execute_result"
        }
      ],
      "source": [
        "# Pass an example image through the network - should return a batch of MultivariateNormalDiags.\n",
        "encoder(example_x)"
      ]
    },
    {
      "cell_type": "code",
      "execution_count": 24,
      "metadata": {
        "id": "S5gVXmYtdciP"
      },
      "outputs": [],
      "source": [
        "# Define the decoding distribution, p(x|z)\n",
        "# input is 2 dimensional, sampled from the 2 dimensional Gaussian (defined by the encoder)\n",
        "\n",
        "decoder = Sequential([\n",
        "          Dense(32, activation='relu'),\n",
        "          Dense(64, activation='relu'),\n",
        "          Dense(128, activation='relu'),\n",
        "          Dense(256, activation='relu'),    \n",
        "          Dense(tfpl.IndependentBernoulli.params_size(event_shape)),\n",
        "          tfpl.IndependentBernoulli(event_shape)   \n",
        "])\n"
      ]
    },
    {
      "cell_type": "code",
      "execution_count": 25,
      "metadata": {
        "colab": {
          "base_uri": "https://localhost:8080/"
        },
        "id": "9d-cE6C5dciR",
        "outputId": "d26df612-db4d-46d1-c465-b136f294e362"
      },
      "outputs": [
        {
          "data": {
            "text/plain": [
              "<tfp.distributions._TensorCoercible 'tensor_coercible' batch_shape=[16] event_shape=[28, 28] dtype=float32>"
            ]
          },
          "execution_count": 25,
          "metadata": {},
          "output_type": "execute_result"
        }
      ],
      "source": [
        "# Pass a batch of examples to the decoder\n",
        "decoder(tf.random.normal([16, latent_size]))\n"
      ]
    },
    {
      "cell_type": "code",
      "execution_count": 26,
      "metadata": {
        "id": "JV7lcvMAdciT"
      },
      "outputs": [],
      "source": [
        "# Define the prior, p(z) - a standard bivariate Gaussian\n",
        "prior = tfd.MultivariateNormalDiag(loc=tf.zeros(latent_size))\n"
      ]
    },
    {
      "cell_type": "markdown",
      "metadata": {
        "id": "FiMwjo4ddciW"
      },
      "source": [
        "The loss function we need to estimate is\n",
        "\n",
        "\\begin{equation}\n",
        "-\\mathrm{ELBO} = \\mathrm{KL}[ \\ q(z|x) \\ || \\ p(z) \\ ] - \\mathrm{E}_{Z \\sim q(z|x)}[\\log p(x|Z)]\\\\\n",
        "\\end{equation}\n",
        "\n",
        "where $x = (x_1, x_2, \\ldots, x_n)$ refers to all observations, $z = (z_1, z_2, \\ldots, z_n)$ refers to corresponding latent variables.\n",
        "\n",
        "Assumed independence of examples implies that we can write this as\n",
        "\n",
        "\\begin{equation}\n",
        "\\sum_j \\mathrm{KL}[ \\ q(z_j|x_j) \\ || \\ p(z_j) \\ ] - \\mathrm{E}_{Z_j \\sim q(z_j|x_j)}[\\log p(x_j|Z_j)]\n",
        "\\end{equation}"
      ]
    },
    {
      "cell_type": "code",
      "execution_count": 27,
      "metadata": {
        "id": "REYFiGDsdciW"
      },
      "outputs": [],
      "source": [
        "# Specify the loss function, an estimate of the -ELBO\n",
        "def loss(x, encoding_dist, sampled_decoding_dist, prior):\n",
        "  return tf.reduce_sum(\n",
        "      tfd.kl_divergence(encoding_dist, prior) - sampled_decoding_dist.log_prob(x)\n",
        "  )\n"
      ]
    },
    {
      "cell_type": "code",
      "execution_count": 28,
      "metadata": {
        "id": "V4qIqCLrdciY"
      },
      "outputs": [],
      "source": [
        "# Define a function that returns the loss and its gradients\n",
        "@tf.function\n",
        "def get_loss_and_grads(x):\n",
        "  with tf.GradientTape() as tape:\n",
        "    encoding_dist = encoder(x)\n",
        "    sampled_z = encoding_dist.sample()\n",
        "    sampled_decoding_dist = decoder(sampled_z)\n",
        "    current_loss = loss(x, encoding_dist, sampled_decoding_dist, prior)\n",
        "  grads = tape.gradient(current_loss,\n",
        "              encoder.trainable_variables +\n",
        "              decoder.trainable_variables )\n",
        "  return current_loss, grads          \n",
        "                       "
      ]
    },
    {
      "cell_type": "code",
      "execution_count": 29,
      "metadata": {
        "colab": {
          "base_uri": "https://localhost:8080/"
        },
        "id": "8cWbgIxZdcia",
        "outputId": "cc470de0-86b7-4114-d21d-1b3f3bcaa131"
      },
      "outputs": [
        {
          "name": "stdout",
          "output_type": "stream",
          "text": [
            "-ELBO after epoch 1: 8974\n",
            "-ELBO after epoch 2: 8873\n",
            "-ELBO after epoch 3: 8773\n",
            "-ELBO after epoch 4: 8796\n",
            "-ELBO after epoch 5: 8809\n"
          ]
        }
      ],
      "source": [
        "# Compile and train the model\n",
        "\n",
        "num_epochs = 5\n",
        "opt = tf.keras.optimizers.Adam()\n",
        "for i in range(num_epochs):\n",
        "    for train_batch in x_train:\n",
        "        current_loss, grads = get_loss_and_grads(train_batch)\n",
        "        opt.apply_gradients(zip(grads, encoder.trainable_variables\n",
        "                                       + decoder.trainable_variables))\n",
        "        \n",
        "    print('-ELBO after epoch {}: {:.0f}'.format(i+1, current_loss.numpy()))"
      ]
    },
    {
      "cell_type": "code",
      "execution_count": 30,
      "metadata": {
        "id": "iU-YvB81dcic"
      },
      "outputs": [],
      "source": [
        "# Connect encoder and decoder, compute a reconstruction\n",
        "def vae(inputs):\n",
        "  approx_posterior = encoder(inputs)\n",
        "  decoding_dist = decoder(approx_posterior.sample())\n",
        "  return decoding_dist.sample()\n",
        "example_reconstruction = vae(example_x).numpy().squeeze()"
      ]
    },
    {
      "cell_type": "code",
      "execution_count": 31,
      "metadata": {
        "colab": {
          "base_uri": "https://localhost:8080/",
          "height": 303
        },
        "id": "TK0TJrmMdcie",
        "outputId": "7ab37c80-d83a-47cc-9072-d8f1de386a30"
      },
      "outputs": [
        {
          "data": {
            "image/png": "[encoded data removed]",
            "text/plain": [
              "<Figure size 1152x360 with 12 Axes>"
            ]
          },
          "metadata": {
            "needs_background": "light"
          },
          "output_type": "display_data"
        }
      ],
      "source": [
        "# Plot examples against reconstructions\n",
        "\n",
        "f, axs = plt.subplots(2, 6, figsize=(16, 5))\n",
        "\n",
        "for j in range(6):\n",
        "    axs[0, j].imshow(example_x[j, :, :].squeeze(), cmap='binary')\n",
        "    axs[1, j].imshow(example_reconstruction[j, :, :], cmap='binary')\n",
        "    axs[0, j].axis('off')\n",
        "    axs[1, j].axis('off')"
      ]
    },
    {
      "cell_type": "code",
      "execution_count": 32,
      "metadata": {
        "id": "1mPjoC1Gdcif"
      },
      "outputs": [],
      "source": [
        "# Generate an example - sample a z value, then sample a reconstruction from p(x|z)\n",
        "z = prior.sample(6)\n",
        "generated_x = decoder(z).mean()"
      ]
    },
    {
      "cell_type": "code",
      "execution_count": 33,
      "metadata": {
        "colab": {
          "base_uri": "https://localhost:8080/",
          "height": 158
        },
        "id": "4FxCMz-6dcih",
        "outputId": "da980e2b-61d3-44f9-a22c-257d5b8882cc"
      },
      "outputs": [
        {
          "data": {
            "image/png": "[encoded data removed]",
            "text/plain": [
              "<Figure size 1152x360 with 6 Axes>"
            ]
          },
          "metadata": {
            "needs_background": "light"
          },
          "output_type": "display_data"
        }
      ],
      "source": [
        "# Display generated_x\n",
        "f, axs = plt.subplots(1, 6, figsize=(16, 5))\n",
        "for j in range(6):\n",
        "    axs[j].imshow(generated_x[j, :, :].numpy().squeeze(), cmap='binary')\n",
        "    axs[j].axis('off')"
      ]
    },
    {
      "cell_type": "code",
      "execution_count": 34,
      "metadata": {
        "id": "DpdznXPQI6Cj"
      },
      "outputs": [],
      "source": [
        "def reconstruc_batch(input, k):\n",
        "  approx_posterior = encoder(input)\n",
        "  decoding_dist = decoder(approx_posterior.sample(k))\n",
        "  return decoding_dist.sample()\n",
        "#example_x contains 16 images.\n",
        "#example_x[0,:,:] means the first image i.e., shoe\n",
        "example = example_x[2,:,:] \n",
        "example = tf.expand_dims(example, 0)\n",
        "#specify how many images you want to reconstruct\n",
        "k = 6\n",
        "example_reconstruction = reconstruc_batch(example, k).numpy().squeeze()"
      ]
    },
    {
      "cell_type": "code",
      "execution_count": 35,
      "metadata": {
        "colab": {
          "base_uri": "https://localhost:8080/",
          "height": 190
        },
        "id": "a6AxWZpaJ5xr",
        "outputId": "fdbbdc03-a121-4f09-c91c-398026a1d2fc"
      },
      "outputs": [
        {
          "data": {
            "image/png": "[encoded data removed]",
            "text/plain": [
              "<Figure size 1512x360 with 7 Axes>"
            ]
          },
          "metadata": {
            "needs_background": "light"
          },
          "output_type": "display_data"
        }
      ],
      "source": [
        "# Display reconstructed example\n",
        "f, axs = plt.subplots(1, k+1, figsize=(3*(k+1), 5))\n",
        "axs[0].imshow(example[0, :, :].numpy().squeeze(), cmap='binary')\n",
        "axs[0].axis('off')\n",
        "axs[0].set_title('original image')\n",
        "for j in range(1,k+1):\n",
        "  axs[j].imshow(example_reconstruction[j-1, :, :], cmap='binary')\n",
        "  axs[j].axis('off')\n",
        "  axs[j].set_title('recon. image '+str(j))"
      ]
    },
    {
      "cell_type": "code",
      "execution_count": 36,
      "metadata": {
        "id": "5q8rrbQLdcik"
      },
      "outputs": [],
      "source": [
        "# # -ELBO estimate using an estimate of the KL divergence\n",
        "# # Monte Carlo Approach \n",
        "# def loss_fn(x_true, approx_posterior, x_pred, prior_dist):\n",
        "#     reconstruction_loss = -x_pred.log_prob(x_true)\n",
        "#     approx_posterior_sample = approx_posterior.sample()\n",
        "#     kl_approx = (approx_posterior.log_prob(approx_posterior_sample)\n",
        "\n",
        "\n",
        "#                     - prior_dist.log_prob(approx_posterior_sample))\n",
        "#     return tf.reduce_mean(kl_approx + reconstruction_loss)"
      ]
    }
  ],
  "metadata": {
    "colab": {
      "collapsed_sections": [],
      "name": "Maximize ELBO_v1.ipynb",
      "provenance": []
    },
    "kernelspec": {
      "display_name": "Python 3",
      "language": "python",
      "name": "python3"
    },
    "language_info": {
      "codemirror_mode": {
        "name": "ipython",
        "version": 3
      },
      "file_extension": ".py",
      "mimetype": "text/x-python",
      "name": "python",
      "nbconvert_exporter": "python",
      "pygments_lexer": "ipython3",
      "version": "3.7.3"
    }
  },
  "nbformat": 4,
  "nbformat_minor": 0
}
